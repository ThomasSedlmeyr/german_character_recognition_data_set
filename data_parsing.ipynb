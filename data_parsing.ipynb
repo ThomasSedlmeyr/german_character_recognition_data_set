{
 "cells": [
  {
   "cell_type": "code",
   "execution_count": 1,
   "id": "initial_id",
   "metadata": {
    "collapsed": true,
    "ExecuteTime": {
     "end_time": "2023-08-29T14:24:24.942208600Z",
     "start_time": "2023-08-29T14:23:42.263884330Z"
    }
   },
   "outputs": [
    {
     "name": "stdout",
     "output_type": "stream",
     "text": [
      "  0     1     2     3     4     5     6     7     8     9     ...  1592  1593  \\\n",
      "0    a     0     0     0     0     0     0     0     0     0  ...     0     0   \n",
      "1    a     0     0     0     0     0     0     0     0     0  ...     0     0   \n",
      "2    a     0     0     0     0     0     0     0     0     0  ...     0     0   \n",
      "3    a     0     0     0     0     0     0     0     0     0  ...     0     0   \n",
      "4    a     0     0     0     0     0     0     0     0     0  ...     0     0   \n",
      "\n",
      "   1594  1595  1596  1597  1598  1599  1600  1601  \n",
      "0     0     0     0     0     0     0     0   NaN  \n",
      "1     0     0     0     0     0     0     0   NaN  \n",
      "2     0     0     0     0     0     0     0   NaN  \n",
      "3     0     0     0     0     0     0     0   NaN  \n",
      "4     0     0     0     0     0     0     0   NaN  \n",
      "\n",
      "[5 rows x 1602 columns]\n"
     ]
    }
   ],
   "source": [
    "import pandas as pd\n",
    "df = pd.read_csv(\"All_letters.csv\", encoding=\"latin-1\", header=None)\n",
    "print(df.head())"
   ]
  },
  {
   "cell_type": "code",
   "execution_count": 6,
   "outputs": [
    {
     "name": "stdout",
     "output_type": "stream",
     "text": [
      "[[<AxesSubplot:title={'center':'1'}>]]\n"
     ]
    },
    {
     "data": {
      "text/plain": "<Figure size 432x288 with 1 Axes>",
      "image/png": "[encoded data removed]"
     },
     "metadata": {
      "needs_background": "light"
     },
     "output_type": "display_data"
    }
   ],
   "source": [
    "print(df.hist(column=[1]))"
   ],
   "metadata": {
    "collapsed": false,
    "ExecuteTime": {
     "end_time": "2023-08-20T09:19:34.484841516Z",
     "start_time": "2023-08-20T09:19:34.105505425Z"
    }
   },
   "id": "da0669f0488167dc"
  },
  {
   "cell_type": "markdown",
   "source": [
    "First we define some global variables which are used for the whole training process"
   ],
   "metadata": {
    "collapsed": false
   },
   "id": "53a83349ffb7c61d"
  },
  {
   "cell_type": "code",
   "execution_count": 5,
   "outputs": [],
   "source": [
    "# Change the paths accordingly\n",
    "path_train_csv = \"train.csv\"\n",
    "path_test_csv = \"test.csv\"\n",
    "# First we have to select the classes on which we would like to train on\n",
    "classes = [\"0\", \"1\", \"2\", \"3\", \"4\", \"5\", \"6\", \"7\", \"8\", \"9\"]\n",
    "# All available classes\n",
    "#classes = ['!','$','&','(',')','+','0','1','2','3','4','5','6','7','8','9','<','>','?','A','B','C','D','E','F','G','H',\n",
    "#           'I','J','K','L','M','N','O','P','Q','R','S','T','U','V','W','X','Y','Z','a','b','c','d','e','f','g','h','i',\n",
    "#           'j','k','l','m','n','o','p','q','r','s','t','u','v','w','x','y','z','~','ß','α','β','π','φ','€','∑','√','∞',\n",
    "#           '∫']\n",
    "num_classes = len(classes)\n",
    "\n",
    "# Standard DL-parameters\n",
    "batch_size = 16\n",
    "num_workers = 12\n",
    "hparams = {\"num_epochs\": 100, \"early_stopping_patience\": 5, \"early_stopping_threshold\": 0.001}"
   ],
   "metadata": {
    "collapsed": false,
    "ExecuteTime": {
     "end_time": "2023-09-07T19:01:12.649648390Z",
     "start_time": "2023-09-07T19:01:12.622493232Z"
    }
   },
   "id": "f87a7cd9d506d565"
  },
  {
   "cell_type": "markdown",
   "source": [
    "For training later on we need to generate a one_hot_encoding"
   ],
   "metadata": {
    "collapsed": false
   },
   "id": "9c5fba019f66bf69"
  },
  {
   "cell_type": "code",
   "execution_count": 6,
   "outputs": [],
   "source": [
    "import numpy as np\n",
    "from sklearn.preprocessing import OneHotEncoder\n",
    "onehot_encoder = OneHotEncoder(sparse=False)\n",
    "reshaped_classes = np.array(classes).reshape(-1, 1)\n",
    "onehot_encoder = onehot_encoder.fit(reshaped_classes)"
   ],
   "metadata": {
    "collapsed": false,
    "ExecuteTime": {
     "end_time": "2023-09-07T19:02:09.857064191Z",
     "start_time": "2023-09-07T19:02:09.773351746Z"
    }
   },
   "id": "fc0a8c84612ac927"
  },
  {
   "cell_type": "code",
   "execution_count": 6,
   "outputs": [],
   "source": [],
   "metadata": {
    "collapsed": false,
    "ExecuteTime": {
     "end_time": "2023-09-07T19:02:11.598331235Z",
     "start_time": "2023-09-07T19:02:11.537917255Z"
    }
   },
   "id": "71acf5c3ede00eba"
  },
  {
   "cell_type": "code",
   "execution_count": null,
   "outputs": [],
   "source": [],
   "metadata": {
    "collapsed": false
   },
   "id": "4d63986552dcf1e6"
  },
  {
   "cell_type": "code",
   "execution_count": null,
   "outputs": [],
   "source": [],
   "metadata": {
    "collapsed": false
   },
   "id": "5af3981cde2e146c"
  },
  {
   "cell_type": "markdown",
   "source": [
    "Now we define a simple CNN-model"
   ],
   "metadata": {
    "collapsed": false
   },
   "id": "28ec067a47cc96dd"
  },
  {
   "cell_type": "code",
   "execution_count": 7,
   "outputs": [],
   "source": [
    "import torch\n",
    "import torch.nn as nn\n",
    "import torch.nn.functional as F\n",
    "\n",
    "class PyTorchClassifier(nn.Module):\n",
    "    def __init__(self, num_classes):\n",
    "        super(PyTorchClassifier, self).__init__()\n",
    "        self.size_fc1 = 256\n",
    "        self.conv1 = nn.Conv2d(1, 32, 6)\n",
    "        self.pool1 = nn.MaxPool2d(2, 2)\n",
    "        self.conv2 = nn.Conv2d(32, 64, 4)\n",
    "        self.pool2 = nn.MaxPool2d(2, 2)\n",
    "        self.conv3 = nn.Conv2d(64, 128, 3)\n",
    "        self.pool3 = nn.MaxPool2d(2, 2)\n",
    "        self.conv4 = nn.Conv2d(128, 256, 2)\n",
    "        self.fc1 = nn.Linear(self.size_fc1, 256)\n",
    "        #self.fc2 = nn.Linear(512, 256)\n",
    "        self.fc2 = nn.Linear(256, num_classes)\n",
    "\n",
    "    def forward(self, x):\n",
    "        x = self.pool1(F.relu(self.conv1(x)))\n",
    "        x = self.pool2(F.relu(self.conv2(x)))\n",
    "        x = self.pool3(F.relu(self.conv3(x)))\n",
    "        x = F.relu(self.conv4(x))\n",
    "        x = torch.flatten(x, 1) # flatten all dimensions except batch\n",
    "        x = F.relu(self.fc1(x))\n",
    "        x = self.fc2(x)\n",
    "        return x"
   ],
   "metadata": {
    "collapsed": false,
    "ExecuteTime": {
     "end_time": "2023-09-07T19:43:44.815729613Z",
     "start_time": "2023-09-07T19:43:44.785236608Z"
    }
   },
   "id": "ad2f938ed134dcd6"
  },
  {
   "cell_type": "code",
   "execution_count": 7,
   "outputs": [],
   "source": [],
   "metadata": {
    "collapsed": false,
    "ExecuteTime": {
     "end_time": "2023-09-07T19:43:48.529705526Z",
     "start_time": "2023-09-07T19:43:48.495159351Z"
    }
   },
   "id": "dd3076e8b4184d3d"
  },
  {
   "cell_type": "code",
   "execution_count": 7,
   "outputs": [
    {
     "ename": "NameError",
     "evalue": "name 'transforms' is not defined",
     "output_type": "error",
     "traceback": [
      "\u001B[0;31m---------------------------------------------------------------------------\u001B[0m",
      "\u001B[0;31mNameError\u001B[0m                                 Traceback (most recent call last)",
      "\u001B[0;32m/tmp/ipykernel_14492/3962778757.py\u001B[0m in \u001B[0;36m<module>\u001B[0;34m\u001B[0m\n\u001B[1;32m     53\u001B[0m \u001B[0;34m\u001B[0m\u001B[0m\n\u001B[1;32m     54\u001B[0m \u001B[0;34m\u001B[0m\u001B[0m\n\u001B[0;32m---> 55\u001B[0;31m transform = transforms.Compose(\n\u001B[0m\u001B[1;32m     56\u001B[0m     [transforms.ToTensor(),\n\u001B[1;32m     57\u001B[0m      \u001B[0mtransforms\u001B[0m\u001B[0;34m.\u001B[0m\u001B[0mResize\u001B[0m\u001B[0;34m(\u001B[0m\u001B[0;34m(\u001B[0m\u001B[0;36m224\u001B[0m\u001B[0;34m,\u001B[0m \u001B[0;36m224\u001B[0m\u001B[0;34m)\u001B[0m\u001B[0;34m,\u001B[0m \u001B[0mantialias\u001B[0m\u001B[0;34m=\u001B[0m\u001B[0;32mTrue\u001B[0m\u001B[0;34m)\u001B[0m\u001B[0;34m,\u001B[0m\u001B[0;34m\u001B[0m\u001B[0;34m\u001B[0m\u001B[0m\n",
      "\u001B[0;31mNameError\u001B[0m: name 'transforms' is not defined"
     ]
    }
   ],
   "source": [
    "from tqdm import tqdm\n",
    "\n",
    "\n",
    "def train_model(data_loaders, model, loss_func, optimizer, device):\n",
    "    print(\"training started\")\n",
    "    num_epochs = hparams[\"num_epochs\"]\n",
    "    best_model_wts = copy.deepcopy(model.state_dict())\n",
    "    lr = optimizer.param_groups[0][\"lr\"]\n",
    "    information = EpochInformation(model, device, num_classes, dataset_sizes)\n",
    "    early_stopper = EarlyStopper(patience=hparams[\"early_stopping_patience\"],\n",
    "                             min_delta=hparams[\"early_stopping_threshold\"],\n",
    "                             model_weights=copy.deepcopy(model.state_dict()))\n",
    "\n",
    "    for epoch in range(num_epochs):\n",
    "        print(f'Epoch {epoch}/{num_epochs - 1}')\n",
    "        print('-' * 10)\n",
    "        if stop == True:\n",
    "            break\n",
    "            # Each epoch has a training and validation phase\n",
    "        for phase in ['val', 'train']:\n",
    "            lr = optimizer.param_groups[0][\"lr\"]\n",
    "            if phase == 'train':\n",
    "                model.train()  # Set model to training mode\n",
    "            else:\n",
    "                model.eval()  # Set model to evaluate mode\n",
    "            information.reset_metrics()\n",
    "            # Iterate over data.\n",
    "            data_loader = tqdm(data_loaders[phase])\n",
    "            for inputs, labels in data_loader:\n",
    "                inputs = inputs.to(device, non_blocking=True)\n",
    "                labels = labels.to(device, non_blocking=True)\n",
    "                optimizer.zero_grad()\n",
    "                with torch.set_grad_enabled(phase == 'train'):\n",
    "                    outputs = model(inputs)\n",
    "                    loss = loss_func(outputs, labels)\n",
    "                    if phase == 'train':\n",
    "                        loss.backward()\n",
    "                        optimizer.step()\n",
    "                information.update_metrics_for_batch(outputs, loss, inputs, labels)\n",
    "\n",
    "            result_dict = information.calculate_metrics(phase)\n",
    "            # prints the all metrics of the training and validation phase\n",
    "            print(\" \".join(name + \": \" + str(round(value, 4)) for name, value in result_dict.items()))\n",
    "\n",
    "            if phase == 'val':\n",
    "                if early_stopper.early_stop(result_dict[\"mcc\"], copy.deepcopy(model.state_dict())):\n",
    "                    print('early stopping')\n",
    "                    stop = True\n",
    "    # load best model weights\n",
    "    model.load_state_dict(early_stopper.best_model_weights)\n",
    "    # model.load_state_dict(best_model_wts)\n",
    "    return model\n",
    "\n",
    "\n",
    "transform = transforms.Compose(\n",
    "    [transforms.ToTensor(),\n",
    "     transforms.Resize((224, 224), antialias=True),\n",
    "     transforms.Normalize([0.485, 0.456, 0.406], [0.229, 0.224, 0.225])])\n",
    "     #transforms.Normalize(35.37502147246886, 75.87412766890324)])\n",
    "\n",
    "train_set = GermanCharacterRecognitionDS(path_train_csv, transform=transform, classes=classes,\n",
    "                                         one_hot_encoder=onehot_encoder, num_channels=3)\n",
    "test_set = GermanCharacterRecognitionDS(path_test_csv, transform=None, classes=classes,\n",
    "                                        one_hot_encoder=onehot_encoder, num_channels=3)\n",
    "\n",
    "#train_loader, val_loader = get_train_and_val_loader(train_set, 250, onehot_encoder, classes)\n",
    "train_loader, val_loader = split_train_loader(train_set, np.load(\"train_indices_digits.npy\"),\n",
    "                                              np.load(\"val_indices_digits.npy\"))\n",
    "test_loader = torch.utils.data.DataLoader(test_set, batch_size=batch_size, shuffle=False, num_workers=num_workers)\n",
    "print(\"train_loader: \" + str(get_all_labels_of_data_loader(train_loader, onehot_encoder)))\n",
    "print(\"val_loader: \" + str(get_all_labels_of_data_loader(val_loader, onehot_encoder)))\n",
    "print(\"test_loader: \" + str(get_all_labels_of_data_loader(test_loader, onehot_encoder)))\n",
    "\n",
    "data_loaders = {\"train\": train_loader, \"val\": val_loader}\n",
    "dataset_sizes = {\"train\": len(train_loader.dataset), \"val\": len(val_loader.dataset)}\n",
    "#model = network_pytorch.PyTorchClassifier(len(classes))\n",
    "loss_func = torch.nn.CrossEntropyLoss()"
   ],
   "metadata": {
    "collapsed": false,
    "ExecuteTime": {
     "end_time": "2023-09-07T19:43:32.251073146Z",
     "start_time": "2023-09-07T19:43:32.106341039Z"
    }
   },
   "id": "b25f6fa6aa8aa886"
  },
  {
   "cell_type": "code",
   "execution_count": 7,
   "outputs": [],
   "source": [],
   "metadata": {
    "collapsed": false,
    "ExecuteTime": {
     "end_time": "2023-09-07T19:43:32.986546270Z",
     "start_time": "2023-09-07T19:43:32.965487933Z"
    }
   },
   "id": "44013faca5dd94b8"
  },
  {
   "cell_type": "code",
   "execution_count": 7,
   "outputs": [],
   "source": [],
   "metadata": {
    "collapsed": false,
    "ExecuteTime": {
     "end_time": "2023-09-07T19:43:33.200265792Z",
     "start_time": "2023-09-07T19:43:33.168140479Z"
    }
   },
   "id": "788fc58fae7cf1c4"
  },
  {
   "cell_type": "code",
   "execution_count": 7,
   "outputs": [],
   "source": [],
   "metadata": {
    "collapsed": false,
    "ExecuteTime": {
     "end_time": "2023-09-07T19:43:33.502087155Z",
     "start_time": "2023-09-07T19:43:33.392372530Z"
    }
   },
   "id": "f27a8f126bf17872"
  },
  {
   "cell_type": "code",
   "execution_count": 7,
   "outputs": [],
   "source": [],
   "metadata": {
    "collapsed": false,
    "ExecuteTime": {
     "end_time": "2023-09-07T19:43:33.637978275Z",
     "start_time": "2023-09-07T19:43:33.588626853Z"
    }
   },
   "id": "5265239f228394e4"
  },
  {
   "cell_type": "code",
   "execution_count": 7,
   "outputs": [],
   "source": [],
   "metadata": {
    "collapsed": false,
    "ExecuteTime": {
     "end_time": "2023-09-07T19:43:33.784895510Z",
     "start_time": "2023-09-07T19:43:33.741650064Z"
    }
   },
   "id": "d702529aa63cfcce"
  },
  {
   "cell_type": "code",
   "execution_count": 7,
   "outputs": [],
   "source": [],
   "metadata": {
    "collapsed": false,
    "ExecuteTime": {
     "end_time": "2023-09-07T19:43:33.966200939Z",
     "start_time": "2023-09-07T19:43:33.941271410Z"
    }
   },
   "id": "388708f31d67fa8d"
  },
  {
   "cell_type": "code",
   "execution_count": 7,
   "outputs": [],
   "source": [],
   "metadata": {
    "collapsed": false,
    "ExecuteTime": {
     "end_time": "2023-09-07T19:43:34.238558955Z",
     "start_time": "2023-09-07T19:43:34.154830397Z"
    }
   },
   "id": "5f7db439103b25e1"
  },
  {
   "cell_type": "code",
   "execution_count": 7,
   "outputs": [],
   "source": [],
   "metadata": {
    "collapsed": false,
    "ExecuteTime": {
     "end_time": "2023-09-07T19:43:34.523474392Z",
     "start_time": "2023-09-07T19:43:34.394900251Z"
    }
   },
   "id": "aadc5fff218fadc7"
  },
  {
   "cell_type": "code",
   "execution_count": null,
   "outputs": [],
   "source": [],
   "metadata": {
    "collapsed": false
   },
   "id": "f7ec08f16abc393a"
  }
 ],
 "metadata": {
  "kernelspec": {
   "display_name": "Python 3",
   "language": "python",
   "name": "python3"
  },
  "language_info": {
   "codemirror_mode": {
    "name": "ipython",
    "version": 2
   },
   "file_extension": ".py",
   "mimetype": "text/x-python",
   "name": "python",
   "nbconvert_exporter": "python",
   "pygments_lexer": "ipython2",
   "version": "2.7.6"
  }
 },
 "nbformat": 4,
 "nbformat_minor": 5
}
